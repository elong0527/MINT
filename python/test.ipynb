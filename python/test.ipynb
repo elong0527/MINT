{
 "cells": [
  {
   "cell_type": "code",
   "execution_count": 2,
   "metadata": {
    "collapsed": false
   },
   "outputs": [],
   "source": [
    "import numpy as np\n",
    "import pandas as pd\n",
    "import scipy\n",
    "import skbio"
   ]
  },
  {
   "cell_type": "code",
   "execution_count": 3,
   "metadata": {
    "collapsed": false
   },
   "outputs": [],
   "source": [
    "def MINT(file, method):\n",
    "        df = pd.read_csv(file)\n",
    "        id  = df.ix[:,0]\n",
    "        otu = df.ix[:,2:]\n",
    "\n",
    "        u_obs = df.ix[:,0:2].drop_duplicates(df.columns[0])  # group information for each subject\n",
    "        id_set = u_obs.ix[:,0]\n",
    "        grp = u_obs.ix[:,1]\n",
    "        id_n = len(id_set)\n",
    "\n",
    "        ## Caculate Kendall correlation for temporal interdependence\n",
    "        res = list()\n",
    "        for i, id_key in enumerate( id_set ) :\n",
    "            otu_id = otu.loc[ id == id_key ]\n",
    "            res.append( otu_id.corr(method = method).fillna(0) )\n",
    "\n",
    "        ## Caculate sample distance for temporal interdependence \n",
    "        dist = np.zeros( (id_n, id_n) )\n",
    "        for i, id1_key in enumerate( id_set ) :\n",
    "            for j, id1_key in enumerate( id_set ):\n",
    "                dist[i,j] = scipy.linalg.norm(res[i] - res[j])  # F-norm\n",
    "\n",
    "        ## Perform Permutation Manova Test\n",
    "        test = skbio.stats.distance.permanova(skbio.DistanceMatrix(dist), grp)\n",
    "        return({\"test\": test, \"dist\": dist, \"meta\": u_obs, \"status\":1})\n",
    "\n",
    "method = \"kendall\"\n",
    "file   = \"mice.csv\"\n",
    "res = MINT(file, method)"
   ]
  },
  {
   "cell_type": "code",
   "execution_count": 4,
   "metadata": {
    "collapsed": false
   },
   "outputs": [
    {
     "data": {
      "text/plain": [
       "method name               PERMANOVA\n",
       "test statistic name        pseudo-F\n",
       "sample size                      20\n",
       "number of groups                  2\n",
       "test statistic              3.02628\n",
       "p-value                       0.001\n",
       "number of permutations          999\n",
       "Name: PERMANOVA results, dtype: object"
      ]
     },
     "execution_count": 4,
     "metadata": {},
     "output_type": "execute_result"
    }
   ],
   "source": [
    "res[\"test\"]"
   ]
  }
 ],
 "metadata": {
  "kernelspec": {
   "display_name": "Python 2",
   "language": "python",
   "name": "python2"
  },
  "language_info": {
   "codemirror_mode": {
    "name": "ipython",
    "version": 2
   },
   "file_extension": ".py",
   "mimetype": "text/x-python",
   "name": "python",
   "nbconvert_exporter": "python",
   "pygments_lexer": "ipython2",
   "version": "2.7.3"
  }
 },
 "nbformat": 4,
 "nbformat_minor": 0
}
